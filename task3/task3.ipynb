{
 "cells": [
  {
   "cell_type": "markdown",
   "metadata": {},
   "source": [
    "# Scrap the page"
   ]
  },
  {
   "cell_type": "code",
   "execution_count": null,
   "metadata": {},
   "outputs": [],
   "source": [
    "import requests\n",
    "from bs4 import BeautifulSoup\n",
    "\n",
    "url = \"https://www.mayoclinic.org/diseases-conditions/rheumatoid-arthritis/symptoms-causes/syc-20353648\"\n",
    "response = requests.get(url)\n",
    "\n",
    "if response.status_code != 200:\n",
    "    print(\"Failed to retrieve the webpage\")\n",
    "    exit()\n",
    "\n",
    "soup = BeautifulSoup(response.text, \"html.parser\")\n",
    "text = soup.get_text()"
   ]
  },
  {
   "cell_type": "markdown",
   "metadata": {},
   "source": [
    "# Preprocess the text"
   ]
  },
  {
   "cell_type": "code",
   "execution_count": null,
   "metadata": {},
   "outputs": [],
   "source": [
    "# Remove empty lines\n",
    "text = \"\\n\".join(item for item in text.split(\"\\n\") if item)\n",
    "\n",
    "# Remove extra spaces\n",
    "text = \"\\n\".join(\n",
    "    \" \".join(word for word in line.split() if word) for line in text.splitlines()\n",
    ")"
   ]
  },
  {
   "cell_type": "markdown",
   "metadata": {},
   "source": [
    "# Extract entities"
   ]
  },
  {
   "cell_type": "code",
   "execution_count": null,
   "metadata": {},
   "outputs": [],
   "source": [
    "import spacy\n",
    "from spacy.matcher import Matcher\n",
    "\n",
    "nlp = spacy.load(\"en_core_sci_sm\")\n",
    "doc = nlp(text)\n",
    "matcher = Matcher(nlp.vocab)\n",
    "patterns = {\n",
    "    \"SYMPTOM\": [\n",
    "        [{\"LOWER\": \"tender\"}, {\"LOWER\": \"warm\"}, {\"LOWER\": \"swollen\"}, {\"LOWER\": \"joints\"}],\n",
    "        [{\"LOWER\": \"joint\"}, {\"LOWER\": \"stiffness\"}],\n",
    "        [{\"LOWER\": \"fatigue\"}],\n",
    "        [{\"LOWER\": \"fever\"}],\n",
    "        [{\"LOWER\": \"loss\"}, {\"LOWER\": \"of\"}, {\"LOWER\": \"appetite\"}],\n",
    "    ],\n",
    "    \"TREATMENT\": [\n",
    "        [{\"LOWER\": \"methotrexate\"}],\n",
    "        [{\"LOWER\": \"steroids\"}],\n",
    "    ],\n",
    "    \"DISEASE\": [\n",
    "        [{\"LOWER\": \"rheumatoid\"}, {\"LOWER\": \"arthritis\"}],\n",
    "    ],\n",
    "    \"GENE_PROTEIN\": [\n",
    "        [{\"LOWER\": \"antibodies\"}],\n",
    "        [{\"LOWER\": \"synovium\"}],\n",
    "    ],\n",
    "    \"CAUSE\": [\n",
    "        [{\"LOWER\": \"rheumatoid\"}, {\"LOWER\": \"arthritis\"}, {\"LOWER\": \"is\"}, {\"LOWER\": \"an\"}, {\"LOWER\": \"autoimmune\"}, {\"LOWER\": \"disease\"}],\n",
    "        [{\"LOWER\": \"immune\"}, {\"LOWER\": \"system\"}, {\"LOWER\": \"attacks\"}, {\"LOWER\": \"healthy\"}, {\"LOWER\": \"tissue\"}],\n",
    "        [{\"LOWER\": \"genetic\"}, {\"LOWER\": \"component\"}],\n",
    "        [{\"LOWER\": \"infection\"}, {\"LOWER\": \"with\"}, {\"LOWER\": \"certain\"}, {\"LOWER\": \"viruses\"}, {\"LOWER\": \"and\"}, {\"LOWER\": \"bacteria\"}],\n",
    "    ],\n",
    "    \"RISK_FACTOR\": [\n",
    "        [{\"LOWER\": \"women\"}],\n",
    "        [{\"LOWER\": \"middle\"}, {\"LOWER\": \"age\"}],\n",
    "        [{\"LOWER\": \"family\"}, {\"LOWER\": \"history\"}],\n",
    "        [{\"LOWER\": \"smoking\"}],\n",
    "        [{\"LOWER\": \"excess\"}, {\"LOWER\": \"weight\"}],\n",
    "    ],\n",
    "    \"COMPLICATIONS\": [\n",
    "        [{\"LOWER\": \"osteoporosis\"}],\n",
    "        [{\"LOWER\": \"rheumatoid\"}, {\"LOWER\": \"nodules\"}],\n",
    "        [{\"LOWER\": \"dry\"}, {\"LOWER\": \"eyes\"}, {\"LOWER\": \"and\"}, {\"LOWER\": \"mouth\"}],\n",
    "        [{\"LOWER\": \"infections\"}],\n",
    "        [{\"LOWER\": \"abnormal\"}, {\"LOWER\": \"body\"}, {\"LOWER\": \"composition\"}],\n",
    "        [{\"LOWER\": \"carpal\"}, {\"LOWER\": \"tunnel\"}, {\"LOWER\": \"syndrome\"}],\n",
    "        [{\"LOWER\": \"heart\"}, {\"LOWER\": \"problems\"}],\n",
    "        [{\"LOWER\": \"lung\"}, {\"LOWER\": \"disease\"}],\n",
    "        [{\"LOWER\": \"lymphoma\"}],\n",
    "    ],\n",
    "}\n",
    "\n",
    "# Add patterns to matcher\n",
    "for label, pattern_list in patterns.items():\n",
    "    matcher.add(label, pattern_list)\n",
    "\n",
    "# Match patterns in the text\n",
    "matches = matcher(doc)\n",
    "\n",
    "# Organize matches into categories\n",
    "categories = {label: [] for label in patterns.keys()}\n",
    "\n",
    "for match_id, start, end in matches:\n",
    "    span = doc[start:end]\n",
    "    label = nlp.vocab.strings[match_id]\n",
    "    categories[label].append(span.text.lower())\n",
    "\n",
    "# Remove duplicates and display results\n",
    "for label, items in categories.items():\n",
    "    categories[label] = list(set(items))\n",
    "\n",
    "print(\"Diseases:\", categories[\"DISEASE\"])\n",
    "print(\"Symptoms:\", categories[\"SYMPTOM\"])\n",
    "print(\"Genes/Proteins:\", categories[\"GENE_PROTEIN\"])\n",
    "print(\"Treatments:\", categories[\"TREATMENT\"])\n",
    "print(\"Causes:\", categories[\"CAUSE\"])\n",
    "print(\"Risk Factors:\", categories[\"RISK_FACTOR\"])\n",
    "print(\"Complications:\", categories[\"COMPLICATIONS\"])"
   ]
  },
  {
   "cell_type": "markdown",
   "metadata": {},
   "source": [
    "# Display the entities"
   ]
  },
  {
   "cell_type": "code",
   "execution_count": null,
   "metadata": {},
   "outputs": [],
   "source": [
    "summary = {label: items for label, items in categories.items() if items}\n",
    "for label, items in summary.items():\n",
    "    print(f\"{label}:\")\n",
    "    for item in items:\n",
    "        print(f\"  - {item}\")"
   ]
  },
  {
   "cell_type": "markdown",
   "metadata": {},
   "source": [
    "# Visualize the entities and their relationships"
   ]
  },
  {
   "cell_type": "code",
   "execution_count": null,
   "metadata": {},
   "outputs": [],
   "source": [
    "from spacy import displacy\n",
    "\n",
    "displacy.render(doc[:9], style=\"dep\", jupyter=True)"
   ]
  },
  {
   "cell_type": "code",
   "execution_count": null,
   "metadata": {},
   "outputs": [],
   "source": [
    "displacy.render(doc, style=\"ent\", jupyter=True)"
   ]
  }
 ],
 "metadata": {
  "kernelspec": {
   "display_name": ".venv",
   "language": "python",
   "name": "python3"
  },
  "language_info": {
   "codemirror_mode": {
    "name": "ipython",
    "version": 3
   },
   "file_extension": ".py",
   "mimetype": "text/x-python",
   "name": "python",
   "nbconvert_exporter": "python",
   "pygments_lexer": "ipython3",
   "version": "3.9.20"
  }
 },
 "nbformat": 4,
 "nbformat_minor": 2
}
