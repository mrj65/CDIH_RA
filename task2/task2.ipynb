{
 "cells": [
  {
   "cell_type": "markdown",
   "id": "4e0b96dd-0175-4d88-b600-7f1f0c50e2db",
   "metadata": {},
   "source": [
    "# Disease Modules"
   ]
  },
  {
   "cell_type": "markdown",
   "id": "44e6fb43-6345-4b37-a3c1-1f530e254e6e",
   "metadata": {},
   "source": [
    "### Disease Gene Associations"
   ]
  },
  {
   "cell_type": "code",
   "execution_count": null,
   "id": "eb95e9f2-056f-40a5-b822-dae0f121b656",
   "metadata": {
    "tags": []
   },
   "outputs": [],
   "source": [
    "import pandas as pd\n",
    "\n",
    "dga = pd.read_csv(\"data/disease_gene.tsv\", sep=\"\\t\")\n",
    "dga = dga[dga.diseaseType == \"disease\"][[\"geneSymbol\", \"diseaseName\"]].drop_duplicates()\n",
    "dga[\"diseaseName\"] = dga[\"diseaseName\"].str.lower()\n",
    "\n",
    "num_genes = (\n",
    "    dga.groupby(\"diseaseName\")\n",
    "    .agg(\"count\")\n",
    "    .sort_values(by=\"geneSymbol\")\n",
    "    .reset_index()\n",
    "    .rename(columns={\"geneSymbol\": \"count_genes\"})\n",
    ")\n",
    "\n",
    "filtered_dga = dga.merge(num_genes, on=\"diseaseName\", how=\"inner\")\n",
    "\n",
    "cleaned_dga = (\n",
    "    filtered_dga[filtered_dga.count_genes > 10][[\"geneSymbol\", \"diseaseName\"]]\n",
    "    .drop_duplicates()\n",
    "    .reset_index(drop=True)\n",
    ")\n"
   ]
  },
  {
   "cell_type": "code",
   "execution_count": null,
   "id": "dde1d25a",
   "metadata": {},
   "outputs": [],
   "source": [
    "ra = cleaned_dga[cleaned_dga.diseaseName == \"rheumatoid arthritis\"]\n",
    "ra_genes = list(ra.geneSymbol.unique())\n"
   ]
  },
  {
   "cell_type": "markdown",
   "id": "603f22ce-6611-4c76-a581-323ba6447f4d",
   "metadata": {},
   "source": [
    "### Protein-Protein Interactions"
   ]
  },
  {
   "cell_type": "code",
   "execution_count": null,
   "id": "2ff6971b-a792-410a-9ada-c83307b6913a",
   "metadata": {
    "tags": []
   },
   "outputs": [],
   "source": [
    "import networkx as nx\n",
    "\n",
    "ppi = pd.read_csv(\"data/ppi.csv\")\n",
    "ppi = ppi[[\"Symbol_A\", \"Symbol_B\"]].drop_duplicates().dropna()\n",
    "gppi = nx.from_pandas_edgelist(ppi, \"Symbol_A\", \"Symbol_B\")\n",
    "\n",
    "# Remove self loops\n",
    "sl = nx.selfloop_edges(gppi)\n",
    "gppi.remove_edges_from(sl)\n"
   ]
  },
  {
   "cell_type": "code",
   "execution_count": null,
   "id": "9826e7ec-ce42-4b19-a8e2-c5fbd8a022d8",
   "metadata": {
    "tags": []
   },
   "outputs": [],
   "source": [
    "from utils.plot import get_disease_module_info\n",
    "\n",
    "ra = get_disease_module_info(\"rheumatoid arthritis\", cleaned_dga, gppi, print_info=True)\n"
   ]
  },
  {
   "cell_type": "code",
   "execution_count": null,
   "id": "ad1b687e",
   "metadata": {},
   "outputs": [],
   "source": [
    "ra_ppi_genes = [node for node in gppi.nodes if node in ra_genes]\n"
   ]
  },
  {
   "cell_type": "code",
   "execution_count": null,
   "id": "94c5ec50",
   "metadata": {},
   "outputs": [],
   "source": [
    "from utils import localization\n",
    "\n",
    "lcc = localization.get_lcc(gppi, ra_ppi_genes)\n"
   ]
  },
  {
   "cell_type": "code",
   "execution_count": null,
   "id": "d672b421",
   "metadata": {},
   "outputs": [],
   "source": [
    "module = gppi.subgraph(lcc)\n",
    "\n",
    "nx.write_gexf(module, \"data/ra_module.gexf\")\n"
   ]
  },
  {
   "cell_type": "code",
   "execution_count": null,
   "id": "eb68d3f9-c3e5-48b2-b84a-ad37fd673752",
   "metadata": {
    "tags": []
   },
   "outputs": [],
   "source": [
    "from utils.plot import plot_disease_module_info\n",
    "\n",
    "plot_disease_module_info(gppi, ra)\n"
   ]
  },
  {
   "cell_type": "code",
   "execution_count": null,
   "id": "fc99f49b",
   "metadata": {},
   "outputs": [],
   "source": [
    "import matplotlib.pyplot as plt\n",
    "import seaborn as sns\n",
    "\n",
    "sns.set_theme(style=\"whitegrid\")\n",
    "\n",
    "plt.figure(figsize=(8, 8))\n",
    "\n",
    "nx.draw_networkx(\n",
    "    module,\n",
    "    with_labels=False,\n",
    "    alpha=0.95,\n",
    "    node_color=\"#5799C6\",\n",
    "    edge_color=\"#202020\",\n",
    "    node_size=300,\n",
    "    width=2,\n",
    "    linewidths=2,\n",
    ")\n",
    "\n",
    "plt.axis(\"off\")\n",
    "plt.title(\"Network Graph\", fontsize=16, fontweight=\"bold\")\n",
    "plt.tight_layout()\n",
    "plt.show()\n"
   ]
  },
  {
   "cell_type": "code",
   "execution_count": null,
   "id": "ec5c864f",
   "metadata": {},
   "outputs": [],
   "source": [
    "G = nx.Graph()\n",
    "G.add_nodes_from(cleaned_dga.geneSymbol, bipartite=0)\n",
    "G.add_nodes_from(cleaned_dga.diseaseName, bipartite=1)\n",
    "G.add_edges_from(cleaned_dga.values)\n",
    "\n",
    "g_projected = nx.algorithms.bipartite.projected_graph(G, nodes=cleaned_dga.diseaseName)\n"
   ]
  },
  {
   "cell_type": "code",
   "execution_count": null,
   "id": "93d63099",
   "metadata": {},
   "outputs": [],
   "source": [
    "import seaborn as sns\n",
    "from matplotlib import pyplot as plt\n",
    "\n",
    "sns.set_theme(style=\"whitegrid\")\n",
    "plt.figure(figsize=(12, 6))\n",
    "sns.histplot(dict(g_projected.degree()).values(), bins=range(0, 900, 20), kde=True)\n",
    "\n",
    "plt.xlabel(\"Degree Bins\")\n",
    "plt.ylabel(\"Frequency\")\n",
    "plt.title(\"Binned Degree Distribution\", fontsize=16, fontweight=\"bold\")\n",
    "\n",
    "plt.gca().get_legend().remove()\n",
    "plt.tight_layout()\n",
    "plt.show()\n"
   ]
  },
  {
   "cell_type": "markdown",
   "id": "90d1b09b-e243-4851-8b44-b3a7c64e977d",
   "metadata": {
    "tags": []
   },
   "source": [
    "# Disease Separation"
   ]
  },
  {
   "cell_type": "code",
   "execution_count": null,
   "id": "7fb38559",
   "metadata": {},
   "outputs": [],
   "source": [
    "import utils.separation as separation\n",
    "import os\n",
    "\n",
    "ra = get_disease_module_info(\"rheumatoid arthritis\", cleaned_dga, gppi)\n",
    "\n",
    "if os.path.exists(\"./data/separations.csv\"):\n",
    "    sorted_df = pd.read_csv(\"./data/separations.csv\")\n",
    "else:\n",
    "    separations = [\n",
    "        (\n",
    "            disease,\n",
    "            separation.get_separation(\n",
    "                gppi,\n",
    "                set(ra[2]),\n",
    "                set(get_disease_module_info(disease, cleaned_dga, gppi)[2]),\n",
    "            ),\n",
    "        )\n",
    "        for disease in cleaned_dga.diseaseName.unique()\n",
    "    ]\n",
    "\n",
    "    df_separations = pd.DataFrame(separations, columns=[\"Disease\", \"Separation\"])\n",
    "    sorted_df = df_separations.sort_values(by=\"Separation\")\n",
    "    sorted_df.to_csv(\"./data/separations.csv\", index=False)\n"
   ]
  },
  {
   "cell_type": "code",
   "execution_count": null,
   "id": "22df8daf",
   "metadata": {},
   "outputs": [],
   "source": [
    "top_3_highest = sorted_df.tail(3)\n",
    "print(\"Top 3 Highest Separations:\")\n",
    "print(top_3_highest)\n",
    "\n",
    "top_3_lowest = sorted_df.head(3)\n",
    "print(\"\\nTop 3 Lowest Separations:\")\n",
    "print(top_3_lowest)\n"
   ]
  },
  {
   "cell_type": "code",
   "execution_count": null,
   "id": "e2d5676b",
   "metadata": {},
   "outputs": [],
   "source": [
    "from utils.plot import plot_separation_value_histogram\n",
    "\n",
    "plot_separation_value_histogram(sorted_df)\n"
   ]
  },
  {
   "cell_type": "markdown",
   "id": "494bcf5a-db9e-482b-b7c9-e245c9c6d4b3",
   "metadata": {},
   "source": [
    "# Drug Proximity"
   ]
  },
  {
   "cell_type": "code",
   "execution_count": null,
   "id": "843df1d7-0a47-413d-9d17-03f657cdbadb",
   "metadata": {
    "tags": []
   },
   "outputs": [],
   "source": [
    "dt = pd.read_csv(\"data/drug_target.csv\")\n",
    "cleaned_dt = dt[dt.organism == \"Humans\"][[\"Gene_Target\", \"Name\"]].drop_duplicates()\n"
   ]
  },
  {
   "cell_type": "code",
   "execution_count": null,
   "id": "e47759bc-de20-425b-864d-e1f2d22c00fd",
   "metadata": {
    "tags": []
   },
   "outputs": [],
   "source": [
    "cleaned_dt[cleaned_dt.Gene_Target.isin(ra[2])][[\"Name\"]].drop_duplicates()\n"
   ]
  },
  {
   "cell_type": "code",
   "execution_count": null,
   "id": "bd73e32a-70dd-4520-9b61-476f17da8815",
   "metadata": {
    "tags": []
   },
   "outputs": [],
   "source": [
    "from utils.plot import plot_proximity\n",
    "\n",
    "target = cleaned_dt[cleaned_dt.Name == \"Alvocidib\"].Gene_Target.unique()\n",
    "print(\"Targets: \", target)\n",
    "plot_proximity(gppi, set(ra[2]), set(target), 1000)\n"
   ]
  },
  {
   "cell_type": "code",
   "execution_count": null,
   "id": "60cd72f0",
   "metadata": {},
   "outputs": [],
   "source": [
    "target = cleaned_dt[cleaned_dt.Name == \"Diclofenac\"].Gene_Target.unique()\n",
    "print(\"Targets: \", target)\n",
    "plot_proximity(gppi, set(ra[2]), set(target), 1000)\n"
   ]
  },
  {
   "cell_type": "code",
   "execution_count": null,
   "id": "1fe500f1",
   "metadata": {},
   "outputs": [],
   "source": [
    "target = cleaned_dt[cleaned_dt.Name == \"Ibuprofen\"].Gene_Target.unique()\n",
    "print(\"Targets: \", target)\n",
    "plot_proximity(gppi, set(ra[2]), set(target), 1000)\n"
   ]
  }
 ],
 "metadata": {
  "kernelspec": {
   "display_name": ".venv",
   "language": "python",
   "name": "python3"
  },
  "language_info": {
   "codemirror_mode": {
    "name": "ipython",
    "version": 3
   },
   "file_extension": ".py",
   "mimetype": "text/x-python",
   "name": "python",
   "nbconvert_exporter": "python",
   "pygments_lexer": "ipython3",
   "version": "3.10.15"
  }
 },
 "nbformat": 4,
 "nbformat_minor": 5
}
